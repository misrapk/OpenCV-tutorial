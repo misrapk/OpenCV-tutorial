{
 "cells": [
  {
   "cell_type": "markdown",
   "metadata": {},
   "source": [
    "# IMAGE\n",
    "##### 2 dimensional representation of the visible light spectrum\n",
    "\n",
    "## How images formed?\n",
    "#### When light refflects off an object onto a film, sensor or retina.\n",
    "\n",
    "## How do computers store images?\n",
    "1. OpenCv uses RBG color space by defalut\n",
    "Each pixel coordinate (x,y) contains 3 values ranging for intensities of 0 to 255(8-bit).\n",
    "    i) Red(0,0,255)\n",
    "    ii) Green(0,255,0)\n",
    "    iii) Blue(255, 0, 0)\n",
    "2. Images are stored in multi-dimensional arrays\n",
    "    ##### Colored Images are 3-Dimensional\n",
    "    ##### Greyscale are 2-Dimensional\n",
    "    ##### BINARY images are pixel \n",
    "    \n"
   ]
  },
  {
   "cell_type": "markdown",
   "metadata": {},
   "source": [
    "# OpenCV\n",
    "Officially launched in 1999, OpenCV from an intel initiative\n",
    "It is written in C++.\n"
   ]
  },
  {
   "cell_type": "code",
   "execution_count": 1,
   "metadata": {},
   "outputs": [],
   "source": [
    "import cv2"
   ]
  },
  {
   "cell_type": "code",
   "execution_count": 2,
   "metadata": {},
   "outputs": [],
   "source": [
    "import numpy as np "
   ]
  },
  {
   "cell_type": "code",
   "execution_count": 7,
   "metadata": {},
   "outputs": [],
   "source": [
    "# lets now load our first image \n",
    "inputImage = cv2.imread(\"E:\\Training Ducat\\pk1\\male5.jpg\")"
   ]
  },
  {
   "cell_type": "code",
   "execution_count": 8,
   "metadata": {},
   "outputs": [],
   "source": [
    "cv2.imshow('First Image', inputImage)\n",
    "cv2.waitKey()\n",
    "cv2.destroyAllWindows()\n"
   ]
  },
  {
   "cell_type": "code",
   "execution_count": 9,
   "metadata": {},
   "outputs": [
    {
     "name": "stdout",
     "output_type": "stream",
     "text": [
      "(168, 300, 3)\n"
     ]
    }
   ],
   "source": [
    "print(inputImage.shape)"
   ]
  },
  {
   "cell_type": "code",
   "execution_count": null,
   "metadata": {},
   "outputs": [],
   "source": []
  }
 ],
 "metadata": {
  "kernelspec": {
   "display_name": "Python 3",
   "language": "python",
   "name": "python3"
  },
  "language_info": {
   "codemirror_mode": {
    "name": "ipython",
    "version": 3
   },
   "file_extension": ".py",
   "mimetype": "text/x-python",
   "name": "python",
   "nbconvert_exporter": "python",
   "pygments_lexer": "ipython3",
   "version": "3.7.3"
  }
 },
 "nbformat": 4,
 "nbformat_minor": 2
}
